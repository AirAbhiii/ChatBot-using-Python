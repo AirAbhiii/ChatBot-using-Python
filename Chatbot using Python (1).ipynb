{
 "cells": [
  {
   "cell_type": "code",
   "execution_count": 6,
   "id": "1b87d194-253b-46a1-a809-99075b5ce876",
   "metadata": {},
   "outputs": [
    {
     "name": "stdout",
     "output_type": "stream",
     "text": [
      "Random module imported\n"
     ]
    }
   ],
   "source": [
    "import random\n",
    "print(\"Random module imported\")\n"
   ]
  },
  {
   "cell_type": "code",
   "execution_count": 1,
   "id": "e3c24127-22de-4e05-809c-92bb6b47ebaa",
   "metadata": {},
   "outputs": [
    {
     "name": "stdout",
     "output_type": "stream",
     "text": [
      " Welcome to the Assistant Bot\n",
      "Bot: Greetings! How may I assist you right now?\n"
     ]
    },
    {
     "name": "stdin",
     "output_type": "stream",
     "text": [
      "You:  contact\n"
     ]
    },
    {
     "name": "stdout",
     "output_type": "stream",
     "text": [
      "Bot: Get in touch with us at www.pinnabot.com or drop an email at hello@pinnabot.com.\n"
     ]
    },
    {
     "name": "stdin",
     "output_type": "stream",
     "text": [
      "You:  services\n"
     ]
    },
    {
     "name": "stdout",
     "output_type": "stream",
     "text": [
      "Bot: We offer services such as software development, web design , Machine Learning , cybersecurity , .\n"
     ]
    },
    {
     "name": "stdin",
     "output_type": "stream",
     "text": [
      "You:  exit\n"
     ]
    },
    {
     "name": "stdout",
     "output_type": "stream",
     "text": [
      "Bot: Thanks for chatting with us. Have a wonderful day ahead!\n"
     ]
    }
   ],
   "source": [
    "import random\n",
    "\n",
    "# Define various bot replies\n",
    "greeting_messages = [\n",
    "    \"Hey there! Welcome to pinnabot . What can I do for you today?\",\n",
    "    \"Greetings! How may I assist you right now?\"\n",
    "]\n",
    "\n",
    "goodbye_messages = [\n",
    "    \"Thanks for chatting with us. Have a wonderful day ahead!\",\n",
    "    \"See you later! Don't hesitate to reach out anytime.\"\n",
    "]\n",
    "\n",
    "# Predefined responses \n",
    "response_guide = {\n",
    "    \"Pinnabot\": \"Pinnabot is an innovative tech startup building smart solutions for the digital age.\",\n",
    "    \"services\": \"We offer services such as software development, web design , Machine Learning , cybersecurity , .\",\n",
    "    \"contact\": \"Get in touch with us at www.pinnabot.com or drop an email at hello@pinnabot.com.\"\n",
    "}\n",
    "\n",
    "# chatbot conversation\n",
    "def start_bot():\n",
    "    print(\" Welcome to the Assistant Bot\")\n",
    "    print(\"Bot:\", random.choice(greeting_messages))\n",
    "\n",
    "    while True:\n",
    "        user_query = input(\"You: \").strip().lower()\n",
    "\n",
    "        if user_query == \"exit\":\n",
    "            print(\"Bot:\", random.choice(goodbye_messages))\n",
    "            break\n",
    "        elif user_query in response_guide:\n",
    "            print(\"Bot:\", response_guide[user_query])\n",
    "        else:\n",
    "            print(\"Bot: Sorry, I’m not sure about that. Need help with something else?\")\n",
    "\n",
    "# Launch the chatbot\n",
    "start_bot()\n",
    "\n"
   ]
  },
  {
   "cell_type": "code",
   "execution_count": null,
   "id": "ec311ab1-bc10-410b-8a25-c5f39b16ce1d",
   "metadata": {},
   "outputs": [],
   "source": []
  }
 ],
 "metadata": {
  "kernelspec": {
   "display_name": "Python 3 (ipykernel)",
   "language": "python",
   "name": "python3"
  },
  "language_info": {
   "codemirror_mode": {
    "name": "ipython",
    "version": 3
   },
   "file_extension": ".py",
   "mimetype": "text/x-python",
   "name": "python",
   "nbconvert_exporter": "python",
   "pygments_lexer": "ipython3",
   "version": "3.12.5"
  }
 },
 "nbformat": 4,
 "nbformat_minor": 5
}
